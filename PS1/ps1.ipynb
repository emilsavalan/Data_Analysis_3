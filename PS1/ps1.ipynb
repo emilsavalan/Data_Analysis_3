{
 "cells": [
  {
   "cell_type": "code",
   "execution_count": 530,
   "id": "6c898050",
   "metadata": {
    "scrolled": true
   },
   "outputs": [],
   "source": [
    "import os\n",
    "import sys\n",
    "import warnings\n",
    "\n",
    "import numpy as np\n",
    "import pandas as pd\n",
    "from mizani.formatters import percent_format\n",
    "from plotnine import *\n",
    "from datetime import datetime\n",
    "from scipy.stats import norm\n",
    "import statsmodels.api as sm\n",
    "from statsmodels.regression.linear_model import OLS\n",
    "import statsmodels.formula.api as smf\n",
    "from mizani import transforms\n",
    "from stargazer.stargazer import Stargazer\n",
    "from sklearn.model_selection import KFold\n",
    "from IPython.core.display import HTML\n",
    "from sklearn.metrics import mean_squared_error\n",
    "import statsmodels.nonparametric.kernel_regression as loess\n",
    "warnings.filterwarnings(\"ignore\")\n"
   ]
  },
  {
   "cell_type": "code",
   "execution_count": 531,
   "id": "6f5482a0",
   "metadata": {
    "scrolled": true
   },
   "outputs": [],
   "source": [
    "# location folders\n",
    "dirname = \"E:/OneDrive - my.cuesta.edu/ceu/ml/Data_Analysis_3/PS1\"\n",
    "data_in = dirname + \"/osfstorage-archive/clean/\""
   ]
  },
  {
   "cell_type": "code",
   "execution_count": 532,
   "id": "2a3a6231",
   "metadata": {
    "scrolled": true
   },
   "outputs": [],
   "source": [
    "data_all = pd.read_csv(data_in + \"morg-2014-emp.csv\")"
   ]
  },
  {
   "cell_type": "code",
   "execution_count": 533,
   "id": "7584d6e4",
   "metadata": {
    "scrolled": true
   },
   "outputs": [
    {
     "name": "stdout",
     "output_type": "stream",
     "text": [
      "Index(['Unnamed: 0', 'hhid', 'intmonth', 'stfips', 'weight', 'earnwke',\n",
      "       'uhours', 'grade92', 'race', 'ethnic', 'age', 'sex', 'marital',\n",
      "       'ownchild', 'chldpres', 'prcitshp', 'state', 'ind02', 'occ2012',\n",
      "       'class', 'unionmme', 'unioncov', 'lfsr94'],\n",
      "      dtype='object')\n"
     ]
    }
   ],
   "source": [
    "print(data_all.columns)"
   ]
  },
  {
   "cell_type": "code",
   "execution_count": 534,
   "id": "fcf249cd",
   "metadata": {
    "scrolled": true
   },
   "outputs": [
    {
     "name": "stdout",
     "output_type": "stream",
     "text": [
      "[  10   20   40   50   60  100  110  120  135  136  137  140  150  160\n",
      "  205  220  230  300  310  330  340  350  360  410  420  425  430  500\n",
      "  510  520  530  540  565  600  630  640  650  700  710  725  726  735\n",
      "  740  800  810  820  830  840  850  860  900  910  930  940  950 1005\n",
      " 1006 1007 1010 1020 1030 1050 1060 1105 1106 1107 1200 1220 1240 1300\n",
      " 1310 1320 1340 1350 1360 1400 1410 1420 1430 1440 1450 1460 1500 1510\n",
      " 1520 1530 1540 1550 1560 1600 1610 1640 1650 1700 1710 1720 1740 1760\n",
      " 1800 1820 1840 1860 1900 1910 1920 1930 1965 2000 2010 2015 2016 2025\n",
      " 2040 2050 2060 2100 2105 2145 2160 2200 2300 2310 2320 2330 2340 2400\n",
      " 2430 2440 2540 2550 2600 2630 2700 2710 2720 2740 2750 2760 2800 2810\n",
      " 2825 2830 2840 2850 2860 2900 2910 2920 3000 3010 3030 3040 3050 3060\n",
      " 3110 3140 3150 3160 3200 3210 3220 3230 3245 3250 3255 3256 3258 3260\n",
      " 3300 3310 3320 3400 3420 3500 3510 3520 3535 3540 3600 3610 3620 3630\n",
      " 3640 3645 3646 3647 3648 3649 3655 3700 3710 3720 3730 3740 3750 3800\n",
      " 3820 3840 3850 3900 3910 3930 3940 3945 3955 4000 4010 4020 4030 4040\n",
      " 4050 4060 4110 4120 4130 4140 4150 4200 4210 4220 4230 4240 4250 4300\n",
      " 4320 4340 4350 4400 4410 4420 4430 4460 4465 4500 4510 4520 4530 4540\n",
      " 4600 4610 4620 4640 4650 4700 4710 4720 4740 4750 4760 4800 4810 4820\n",
      " 4830 4840 4850 4900 4920 4930 4940 4950 4965 5000 5010 5020 5030 5100\n",
      " 5110 5120 5130 5140 5150 5160 5165 5200 5220 5230 5240 5250 5260 5300\n",
      " 5310 5320 5330 5340 5350 5360 5400 5410 5420 5500 5510 5520 5530 5540\n",
      " 5550 5560 5600 5610 5620 5630 5700 5800 5810 5820 5840 5850 5860 5900\n",
      " 5910 5920 5940 6005 6010 6040 6050 6100 6120 6130 6200 6210 6220 6230\n",
      " 6240 6250 6260 6300 6320 6330 6355 6360 6400 6420 6440 6460 6500 6515\n",
      " 6520 6530 6600 6660 6700 6710 6720 6730 6740 6750 6765 6800 6820 6830\n",
      " 6840 6920 6940 7000 7010 7020 7030 7040 7100 7110 7120 7130 7140 7150\n",
      " 7160 7200 7210 7220 7240 7260 7300 7315 7320 7330 7340 7350 7360 7410\n",
      " 7420 7430 7510 7540 7560 7610 7630 7700 7710 7720 7730 7740 7750 7800\n",
      " 7810 7830 7840 7850 7855 7900 7920 7940 7950 8000 8010 8030 8040 8100\n",
      " 8130 8140 8200 8210 8220 8250 8255 8256 8300 8310 8320 8330 8350 8400\n",
      " 8410 8420 8450 8460 8500 8510 8530 8540 8550 8600 8610 8620 8630 8640\n",
      " 8650 8710 8720 8730 8740 8750 8760 8800 8810 8830 8850 8860 8910 8920\n",
      " 8930 8940 8950 8965 9000 9030 9040 9050 9110 9120 9130 9140 9150 9200\n",
      " 9240 9260 9300 9310 9350 9360 9410 9415 9420 9510 9520 9560 9600 9610\n",
      " 9620 9630 9640 9650 9720 9750]\n"
     ]
    }
   ],
   "source": [
    "print(np.sort(data_all[\"occ2012\"].unique()))"
   ]
  },
  {
   "cell_type": "code",
   "execution_count": 535,
   "id": "2030f8f3",
   "metadata": {
    "scrolled": true
   },
   "outputs": [
    {
     "data": {
      "text/plain": [
       "array([ 120,  800,  810,  820,  830,  840,  850,  860,  900,  910,  930,\n",
       "        940,  950, 4820, 5165], dtype=int64)"
      ]
     },
     "execution_count": 535,
     "metadata": {},
     "output_type": "execute_result"
    }
   ],
   "source": [
    "# 4820 Securities, commodities, and financial services sales agents\n",
    "# 5165 Financial clerks, all other\n",
    "# 0120 Financial managers\n",
    "# 0800  - 0950\n",
    "\n",
    "# print(data_all.dtypes)\n",
    "\n",
    "# Use the combined condition to select the rows\n",
    "data = data_all.query(\"occ2012 == 4820 or occ2012 == 5165 or occ2012 == 120 or (occ2012>799 and occ2012<951)\")\n",
    "np.sort(data[\"occ2012\"].unique())\n"
   ]
  },
  {
   "cell_type": "code",
   "execution_count": 536,
   "id": "1efe68d5",
   "metadata": {
    "scrolled": true
   },
   "outputs": [
    {
     "name": "stdout",
     "output_type": "stream",
     "text": [
      "(5150, 18)\n"
     ]
    }
   ],
   "source": [
    "data= data[\n",
    "    [\n",
    "        \"lfsr94\",\n",
    "        \"earnwke\",\n",
    "        \"uhours\",\n",
    "        \"grade92\",\n",
    "        \"race\",\n",
    "        \"ethnic\",\n",
    "        \"age\",\n",
    "        \"sex\",\n",
    "        \"marital\",\n",
    "        \"ownchild\",\n",
    "        \"chldpres\",\n",
    "        \"prcitshp\",\n",
    "        \"state\",\n",
    "        \"ind02\",\n",
    "        \"occ2012\",\n",
    "        \"class\",\n",
    "        \"unionmme\", \n",
    "        \"unioncov\"]\n",
    "]\n",
    "print(data.shape)"
   ]
  },
  {
   "cell_type": "code",
   "execution_count": 537,
   "id": "9c3cd856",
   "metadata": {
    "scrolled": false
   },
   "outputs": [
    {
     "data": {
      "text/plain": [
       "array(['** Alcoholic beverages, merchant wholesalers (*4248)',\n",
       "       '** Construction (23)',\n",
       "       '** Drugs, sundries, and chemical and allied products, merchant (wholesalerss*4242, 4246)',\n",
       "       '** Farm product raw materials, merchant wholesalers (*4245)',\n",
       "       '** Farm supplies, merchant wholesalers (*42491)',\n",
       "       '** Groceries and related products, merchant wholesalers (*4244)',\n",
       "       '** Lumber and other construction materials, merchant wholesalers (*4233)',\n",
       "       '** Machinery, equipment, and supplies, merchant wholesalers (*4238)',\n",
       "       '** Metals and minerals, except petroleum, merchant wholesalers (*4235)',\n",
       "       '** Miscellaneous (nondurable goods, merchant wholesalerss*4249 exc. 42491)',\n",
       "       '** Miscellaneous durable goods, merchant wholesalers (*4239 exc. 42393)',\n",
       "       '** Motor vehicles, parts and supplies, merchant wholesalers (*4231)',\n",
       "       '** Petroleum and petroleum products, merchant wholesalers (*4247)',\n",
       "       '** Professional and commercial equipment and supplies, merchant wholesalers (*4234)',\n",
       "       '** Recyclable material, merchant wholesalers (*42393)',\n",
       "       '** Services to buildings and dwellings (5617 exc. 56173)',\n",
       "       '*** Electronic shopping (New industry *454111)',\n",
       "       '*** Wholesale electronic markets, agents and brokers New industry (*4251)',\n",
       "       '**** Data processing, hosting, and related services (*5182)',\n",
       "       '****Department stores and discount stores (s45211)',\n",
       "       '**Newspaper publishers (51111)',\n",
       "       '**Not specified wholesale trade (Part of 42)',\n",
       "       '**Publishing, except newspapers and software (5111 exc. 51111)',\n",
       "       '3095', '3365', '3895', '4195', '4265', '4795', '5275',\n",
       "       'Accounting, tax preparation, bookkeeping, and payroll services (5412)',\n",
       "       'Administration of economic programs and space research (926, 927)',\n",
       "       'Administration of environmental quality and housing programs (924, 925)',\n",
       "       'Administration of human resource programs (923)',\n",
       "       'Advertising and related services (5418)',\n",
       "       'Aerospace products and parts manufacturing (336414, 336415, 336419)',\n",
       "       'Agricultural chemical manufacturing (3253)',\n",
       "       'Agricultural implement manufacturing (33311)',\n",
       "       'Air transportation (481)',\n",
       "       'Aircraft and parts manufacturing (336411 to 336413)',\n",
       "       'Aluminum production and processing (3313)',\n",
       "       'Animal food, grain and oilseed milling (3111, 3112)',\n",
       "       'Animal production (112)',\n",
       "       'Animal slaughtering and processing (3116)',\n",
       "       'Architectural, engineering, and related services (5413)',\n",
       "       'Auto parts, accessories, and tire stores (4413)',\n",
       "       'Automobile dealers (4411)',\n",
       "       'Automotive equipment rental and leasing (5321)',\n",
       "       'Automotive repair and maintenance (8111 exc. 811192)',\n",
       "       'Bakeries, except retail (3118 exc. 311811)',\n",
       "       'Banking and related activities (521, 52211,52219)',\n",
       "       'Beer, wine, and liquor stores (4453)',\n",
       "       'Beverage manufacturing (3121)',\n",
       "       'Book stores and news dealers (45121)',\n",
       "       'Building material and supplies dealers (4441 exc. 44413)',\n",
       "       'Bus service and urban transit (4851, 4852, 4854, 4855, 4859)',\n",
       "       'Business support services (5614)',\n",
       "       'Business, professional, political, and similar organizations (8139 exc. 81393)',\n",
       "       'Business, technical, and trade schools and training (6114, 6115)',\n",
       "       'Car washes (811192)',\n",
       "       'Cement, concrete, lime, and gypsum product manufacturing (3273, 3274)',\n",
       "       'Child day care services (6244)',\n",
       "       'Civic, social, advocacy organizations, and grantmaking and giving services (8132, 8133, 8134)',\n",
       "       'Clothing and accessories, except shoe, stores (448 exc. 44821, 4483)',\n",
       "       'Coal mining (2121)',\n",
       "       'Colleges and universities, including junior colleges (6112, 6113)',\n",
       "       'Commercial, industrial, and other intangible assets rental and leasing (5324, 533)',\n",
       "       'Communications, audio, and video equipment manufacturing (3342, 3343)',\n",
       "       'Community food and housing, and emergency services (6242)',\n",
       "       'Computer systems design and related services (5415)',\n",
       "       'Construction, mining and oil field machinery manufacturing (33312, 33313)',\n",
       "       'Couriers and messengers (492)', 'Crop production (111)',\n",
       "       'Cut and sew apparel manufacturing (3152)',\n",
       "       'Dairy product manufacturing (3115)',\n",
       "       'Drinking places, alcoholic beverages (7224)',\n",
       "       'Electric and gas, and other combinations (Pts. 2211, 2212)',\n",
       "       'Electric power generation, transmission and distribution (Pt. 2211)',\n",
       "       'Electrical lighting, equipment, and supplies manufacturing, n.e.c. (3351, 3353, 3359)',\n",
       "       'Electronic and precision equipment repair and maintenance (8112)',\n",
       "       'Electronic component and product manufacturing, n.e.c. (3344, 3346)',\n",
       "       'Elementary and secondary schools (6111)',\n",
       "       'Employment services (5613)',\n",
       "       'Engines, turbines, and power transmission equipment manufacturing (3336)',\n",
       "       'Executive offices and legislative bodies (92111, 92112, 92114, pt. 92115)',\n",
       "       'Fishing, hunting, and trapping (114)',\n",
       "       'Footwear manufacturing (3162)',\n",
       "       'Forestry except logging (1131, 1132)', 'Foundries (3315)',\n",
       "       'Fruit and vegetable preserving and specialty food manufacturing (3114)',\n",
       "       'Fuel dealers (45431)',\n",
       "       'Funeral homes, cemeteries, and crematories (8122)',\n",
       "       'Furniture and home furnishings stores (442)',\n",
       "       'Gasoline stations (447)',\n",
       "       'Gift, novelty, and souvenir shops (45322)',\n",
       "       'Glass and glass product manufacturing (3272)',\n",
       "       'Grocery stores (4451)', 'Hardware stores (44413)',\n",
       "       'Health and personal care, except drug, stores (446 exc. 44611)',\n",
       "       'Home health care services (6216)', 'Hospitals (622)',\n",
       "       'Household appliance manufacturing (3352)',\n",
       "       'Independent artists, performing arts, spectator sports, and related industries (711)',\n",
       "       'Individual and family services (6241)',\n",
       "       'Industrial and miscellaneous chemicals (3251, 3259)',\n",
       "       'Insurance carriers and related activities (524)',\n",
       "       'Internet publishing and broadcasting and web search portals (51913)',\n",
       "       'Investigation and security services (5616)',\n",
       "       'Iron and steel mills and steel product manufacturing (3311, 3312)',\n",
       "       'Jewelry, luggage, and leather goods stores (4483)',\n",
       "       'Justice, public order, and safety activities (922, pt. 92115)',\n",
       "       'Knitting mills (31324, 3151)', 'Labor unions (81393)',\n",
       "       'Landscaping services (56173)',\n",
       "       'Lawn and garden equipment and supplies stores (4442)',\n",
       "       'Leather tanning and products, except footwear manufacturing (3161, 3169)',\n",
       "       'Legal services (5411)',\n",
       "       'Machine shops; turned product; screw, nut and bolt manufacturing (3327)',\n",
       "       'Machinery manufacturing, n.e.c. (3332, 3334, 3339)',\n",
       "       'Management of companies and enterprises (551)',\n",
       "       'Management, scientific, and technical consulting services (5416)',\n",
       "       'Medical equipment and supplies manufacturing (3391)',\n",
       "       'Metal forgings and stampings (3321)', 'Metal ore mining (2122)',\n",
       "       'Metalworking machinery manufacturing (3335)',\n",
       "       'Miscellaneous fabricated metal products manufacturing (3325, 3326, 3329 exc. 332992, 332993, 332994, 332995)',\n",
       "       'Miscellaneous general merchandise stores (4529)',\n",
       "       'Miscellaneous manufacturing, n.e.c. (3399 exc. 33992, 33993)',\n",
       "       'Miscellaneous nonmetallic mineral product manufacturing (3279)',\n",
       "       'Miscellaneous paper and pulp products (32222,32223, 32229)',\n",
       "       'Miscellaneous petroleum and coal products (32419)',\n",
       "       'Miscellaneous retail stores (4539)',\n",
       "       'Motion pictures and video industries (5121)',\n",
       "       'Motor vehicles and motor vehicle equipment manufacturing (3361, 3362, 3363)',\n",
       "       'Museums, art galleries, historical sites, and similar institutions (712)',\n",
       "       'National security and international affairs (928)',\n",
       "       'Natural gas distribution (Pt.s2212)',\n",
       "       'Navigational, measuring, electromedical, and control instruments manufacturing (3345)',\n",
       "       'Non-depository credit and related activities (5222, 5223)',\n",
       "       'Nonmetallic mineral mining and quarrying (2123)',\n",
       "       'Not specified manufacturing industries (Part of 31, 32, 33)',\n",
       "       'Not specified retail trade (Part of 44, 45)',\n",
       "       'Not specified utilities (Part of 22)',\n",
       "       'Nursing care facilities (6231)', 'Offices of dentists (6212)',\n",
       "       'Offices of optometrists (62132)',\n",
       "       'Offices of other health practitioners (6213 exc. 62131, 62132)',\n",
       "       'Offices of physicians (6211)', 'Oil and gas extraction (211)',\n",
       "       'Other administrative and other support services (5611, 5612, 5619)',\n",
       "       'Other amusement, gambling, and recreation industries (713 exc. 71395)',\n",
       "       'Other consumer goods rental (53221, 53222, 53229, 5323)',\n",
       "       'Other general government and support (92119)',\n",
       "       'Other health care services (6215, 6219)',\n",
       "       'Other motor vehicle dealers (4412)',\n",
       "       'Other personal services (8129)',\n",
       "       'Other professional, scientific, and technical services (5419 exc. 54194)',\n",
       "       'Other schools, instruction, and educational services (6116, 6117)',\n",
       "       'Other telecommunications services (*517 exc. 5171, 5175)',\n",
       "       'Other transportation equipment manufacturing (3369)',\n",
       "       'Outpatient care centers (6214)',\n",
       "       'Paint, coating, and adhesive manufacturing B46 (3255)',\n",
       "       'Paperboard containers and boxes (32221)',\n",
       "       'Petroleum refining (32411)',\n",
       "       'Pharmaceutical and medicine manufacturing (3254)',\n",
       "       'Pharmacies and drug stores (44611)',\n",
       "       'Pipeline transportation (486)',\n",
       "       'Plastics product manufacturing (3261)', 'Postal Service (491)',\n",
       "       'Pottery, ceramics, and related products manufacturing (32711)',\n",
       "       'Prefabricated wood buildings and mobile homes (321991, 321992)',\n",
       "       'Printing and related support activities (3231)',\n",
       "       'Private households (814)', 'Public finance activities (92113)',\n",
       "       'Pulp, paper, and paperboard mills (3221)',\n",
       "       'Radio and television broadcasting and cable (5151, 5152, 5175)',\n",
       "       'Rail transportation (482)',\n",
       "       'Railroad rolling stock manufacturing (3365)', 'Real estate (531)',\n",
       "       'Recreational vehicle parks and camps, and rooming and boarding houses (7212, 7213)',\n",
       "       'Religious organizations (8131)',\n",
       "       'Residential care facilities, without nursing (6232, 6233, 6239)',\n",
       "       'Resin, synthetic rubber and fibers, and filaments manufacturing (3252)',\n",
       "       'Restaurants and other food services (722 exc. 7224)',\n",
       "       'Retail florists (4531)',\n",
       "       'Savings institutions, including credit unions (52212, 52213)',\n",
       "       'Sawmills and wood preservation (3211)',\n",
       "       'Scenic and sightseeing transportation (487)',\n",
       "       'Scientific research and development services (5417)',\n",
       "       'Seafood and other miscellaneous foods, n.e.c. (3117, 3119)',\n",
       "       'Securities, commodities, funds, trusts, and other financial investments (523, 525)',\n",
       "       'Services incidental to transportation (488)',\n",
       "       'Sewage treatment facilities (22132)',\n",
       "       'Sewing, needlework, and piece goods stores (45113)',\n",
       "       'Ship and boat building (3366)',\n",
       "       'Soap, cleaning compound, and cosmetics manufacturing (3256)',\n",
       "       'Software publishing (5112)', 'Specialized design services (5414)',\n",
       "       'Specialty food stores (4452)',\n",
       "       'Structural metals, and tank and shipping container manufacturing (3323, 3324)',\n",
       "       'Sugar and confectionery products (3113)',\n",
       "       'Support activities for agriculture and forestry (115)',\n",
       "       'Support activities for mining (213)',\n",
       "       'Taxi and limousine service (4853)',\n",
       "       'Textile product mills, except carpets and rugs (314 exc. 31411)',\n",
       "       'Tire manufacturing (32621)', 'Tobacco manufacturing (3122)',\n",
       "       'Toys, amusement, and sporting goods manufacturing (33992, 33993)',\n",
       "       'Travel arrangements and reservation services (5615)',\n",
       "       'Traveler accommodation (7211)', 'Truck transportation (484)',\n",
       "       'Veterinary services (54194)', 'Warehousing and storage (493)',\n",
       "       'Waste management and remediation services (562)',\n",
       "       'Water transportation (483)',\n",
       "       'Water, steam, air-conditioning, and irrigation systems (22131, 22133)',\n",
       "       'Wired telecommunications carriers (*5171)'], dtype=object)"
      ]
     },
     "execution_count": 537,
     "metadata": {},
     "output_type": "execute_result"
    }
   ],
   "source": [
    "np.sort(data[\"ind02\"].unique())\n"
   ]
  },
  {
   "cell_type": "code",
   "execution_count": 538,
   "id": "2450e1cc",
   "metadata": {
    "scrolled": false
   },
   "outputs": [
    {
     "data": {
      "text/plain": [
       "array(['3095', '3365', '3895', '4195', '4265', '4795', '5275',\n",
       "       'Accounting,taxpreparation,bookkeeping,andpayrollservices(5412)',\n",
       "       'Administrationofeconomicprogramsandspaceresearch(926,927)',\n",
       "       'Administrationofenvironmentalqualityandhousingprograms(924,925)',\n",
       "       'Administrationofhumanresourceprograms(923)',\n",
       "       'Advertisingandrelatedservices(5418)',\n",
       "       'Aerospaceproductsandpartsmanufacturing(336414,336415,336419)',\n",
       "       'Agriculturalchemicalmanufacturing(3253)',\n",
       "       'Agriculturalimplementmanufacturing(33311)',\n",
       "       'Aircraftandpartsmanufacturing(336411to336413)',\n",
       "       'Airtransportation(481)',\n",
       "       'Alcoholicbeverages,merchantwholesalers(4248)',\n",
       "       'Aluminumproductionandprocessing(3313)',\n",
       "       'Animalfood,grainandoilseedmilling(3111,3112)',\n",
       "       'Animalproduction(112)', 'Animalslaughteringandprocessing(3116)',\n",
       "       'Architectural,engineering,andrelatedservices(5413)',\n",
       "       'Automobiledealers(4411)',\n",
       "       'Automotiveequipmentrentalandleasing(5321)',\n",
       "       'Automotiverepairandmaintenance(8111exc.811192)',\n",
       "       'Autoparts,accessories,andtirestores(4413)',\n",
       "       'Bakeries,exceptretail(3118exc.311811)',\n",
       "       'Bankingandrelatedactivities(521,52211,52219)',\n",
       "       'Beer,wine,andliquorstores(4453)', 'Beveragemanufacturing(3121)',\n",
       "       'Bookstoresandnewsdealers(45121)',\n",
       "       'Buildingmaterialandsuppliesdealers(4441exc.44413)',\n",
       "       'Business,professional,political,andsimilarorganizations(8139exc.81393)',\n",
       "       'Business,technical,andtradeschoolsandtraining(6114,6115)',\n",
       "       'Businesssupportservices(5614)',\n",
       "       'Busserviceandurbantransit(4851,4852,4854,4855,4859)',\n",
       "       'Carwashes(811192)',\n",
       "       'Cement,concrete,lime,andgypsumproductmanufacturing(3273,3274)',\n",
       "       'Childdaycareservices(6244)',\n",
       "       'Civic,social,advocacyorganizations,andgrantmakingandgivingservices(8132,8133,8134)',\n",
       "       'Clothingandaccessories,exceptshoe,stores(448exc.44821,4483)',\n",
       "       'Coalmining(2121)',\n",
       "       'Collegesanduniversities,includingjuniorcolleges(6112,6113)',\n",
       "       'Commercial,industrial,andotherintangibleassetsrentalandleasing(5324,533)',\n",
       "       'Communications,audio,andvideoequipmentmanufacturing(3342,3343)',\n",
       "       'Communityfoodandhousing,andemergencyservices(6242)',\n",
       "       'Computersystemsdesignandrelatedservices(5415)',\n",
       "       'Construction(23)',\n",
       "       'Construction,miningandoilfieldmachinerymanufacturing(33312,33313)',\n",
       "       'Couriersandmessengers(492)', 'Cropproduction(111)',\n",
       "       'Cutandsewapparelmanufacturing(3152)',\n",
       "       'Dairyproductmanufacturing(3115)',\n",
       "       'Dataprocessing,hosting,andrelatedservices(5182)',\n",
       "       'Departmentstoresanddiscountstores(s45211)',\n",
       "       'Drinkingplaces,alcoholicbeverages(7224)',\n",
       "       'Drugs,sundries,andchemicalandalliedproducts,merchant(wholesalerss4242,4246)',\n",
       "       'Electricallighting,equipment,andsuppliesmanufacturing,n.e.c.(3351,3353,3359)',\n",
       "       'Electricandgas,andothercombinations(Pts.2211,2212)',\n",
       "       'Electricpowergeneration,transmissionanddistribution(Pt.2211)',\n",
       "       'Electronicandprecisionequipmentrepairandmaintenance(8112)',\n",
       "       'Electroniccomponentandproductmanufacturing,n.e.c.(3344,3346)',\n",
       "       'Electronicshopping(Newindustry454111)',\n",
       "       'Elementaryandsecondaryschools(6111)', 'Employmentservices(5613)',\n",
       "       'Engines,turbines,andpowertransmissionequipmentmanufacturing(3336)',\n",
       "       'Executiveofficesandlegislativebodies(92111,92112,92114,pt.92115)',\n",
       "       'Farmproductrawmaterials,merchantwholesalers(4245)',\n",
       "       'Farmsupplies,merchantwholesalers(42491)',\n",
       "       'Fishing,hunting,andtrapping(114)', 'Footwearmanufacturing(3162)',\n",
       "       'Forestryexceptlogging(1131,1132)', 'Foundries(3315)',\n",
       "       'Fruitandvegetablepreservingandspecialtyfoodmanufacturing(3114)',\n",
       "       'Fueldealers(45431)',\n",
       "       'Funeralhomes,cemeteries,andcrematories(8122)',\n",
       "       'Furnitureandhomefurnishingsstores(442)', 'Gasolinestations(447)',\n",
       "       'Gift,novelty,andsouvenirshops(45322)',\n",
       "       'Glassandglassproductmanufacturing(3272)',\n",
       "       'Groceriesandrelatedproducts,merchantwholesalers(4244)',\n",
       "       'Grocerystores(4451)', 'Hardwarestores(44413)',\n",
       "       'Healthandpersonalcare,exceptdrug,stores(446exc.44611)',\n",
       "       'Homehealthcareservices(6216)', 'Hospitals(622)',\n",
       "       'Householdappliancemanufacturing(3352)',\n",
       "       'Independentartists,performingarts,spectatorsports,andrelatedindustries(711)',\n",
       "       'Individualandfamilyservices(6241)',\n",
       "       'Industrialandmiscellaneouschemicals(3251,3259)',\n",
       "       'Insurancecarriersandrelatedactivities(524)',\n",
       "       'Internetpublishingandbroadcastingandwebsearchportals(51913)',\n",
       "       'Investigationandsecurityservices(5616)',\n",
       "       'Ironandsteelmillsandsteelproductmanufacturing(3311,3312)',\n",
       "       'Jewelry,luggage,andleathergoodsstores(4483)',\n",
       "       'Justice,publicorder,andsafetyactivities(922,pt.92115)',\n",
       "       'Knittingmills(31324,3151)', 'Laborunions(81393)',\n",
       "       'Landscapingservices(56173)',\n",
       "       'Lawnandgardenequipmentandsuppliesstores(4442)',\n",
       "       'Leathertanningandproducts,exceptfootwearmanufacturing(3161,3169)',\n",
       "       'Legalservices(5411)',\n",
       "       'Lumberandotherconstructionmaterials,merchantwholesalers(4233)',\n",
       "       'Machinery,equipment,andsupplies,merchantwholesalers(4238)',\n",
       "       'Machinerymanufacturing,n.e.c.(3332,3334,3339)',\n",
       "       'Machineshops;turnedproduct;screw,nutandboltmanufacturing(3327)',\n",
       "       'Management,scientific,andtechnicalconsultingservices(5416)',\n",
       "       'Managementofcompaniesandenterprises(551)',\n",
       "       'Medicalequipmentandsuppliesmanufacturing(3391)',\n",
       "       'Metalforgingsandstampings(3321)', 'Metaloremining(2122)',\n",
       "       'Metalsandminerals,exceptpetroleum,merchantwholesalers(4235)',\n",
       "       'Metalworkingmachinerymanufacturing(3335)',\n",
       "       'Miscellaneous(nondurablegoods,merchantwholesalerss4249exc.42491)',\n",
       "       'Miscellaneousdurablegoods,merchantwholesalers(4239exc.42393)',\n",
       "       'Miscellaneousfabricatedmetalproductsmanufacturing(3325,3326,3329exc.332992,332993,332994,332995)',\n",
       "       'Miscellaneousgeneralmerchandisestores(4529)',\n",
       "       'Miscellaneousmanufacturing,n.e.c.(3399exc.33992,33993)',\n",
       "       'Miscellaneousnonmetallicmineralproductmanufacturing(3279)',\n",
       "       'Miscellaneouspaperandpulpproducts(32222,32223,32229)',\n",
       "       'Miscellaneouspetroleumandcoalproducts(32419)',\n",
       "       'Miscellaneousretailstores(4539)',\n",
       "       'Motionpicturesandvideoindustries(5121)',\n",
       "       'Motorvehicles,partsandsupplies,merchantwholesalers(4231)',\n",
       "       'Motorvehiclesandmotorvehicleequipmentmanufacturing(3361,3362,3363)',\n",
       "       'Museums,artgalleries,historicalsites,andsimilarinstitutions(712)',\n",
       "       'Nationalsecurityandinternationalaffairs(928)',\n",
       "       'Naturalgasdistribution(Pt.s2212)',\n",
       "       'Navigational,measuring,electromedical,andcontrolinstrumentsmanufacturing(3345)',\n",
       "       'Newspaperpublishers(51111)',\n",
       "       'Non-depositorycreditandrelatedactivities(5222,5223)',\n",
       "       'Nonmetallicmineralminingandquarrying(2123)',\n",
       "       'Notspecifiedmanufacturingindustries(Partof31,32,33)',\n",
       "       'Notspecifiedretailtrade(Partof44,45)',\n",
       "       'Notspecifiedutilities(Partof22)',\n",
       "       'Notspecifiedwholesaletrade(Partof42)',\n",
       "       'Nursingcarefacilities(6231)', 'Officesofdentists(6212)',\n",
       "       'Officesofoptometrists(62132)',\n",
       "       'Officesofotherhealthpractitioners(6213exc.62131,62132)',\n",
       "       'Officesofphysicians(6211)', 'Oilandgasextraction(211)',\n",
       "       'Otheradministrativeandothersupportservices(5611,5612,5619)',\n",
       "       'Otheramusement,gambling,andrecreationindustries(713exc.71395)',\n",
       "       'Otherconsumergoodsrental(53221,53222,53229,5323)',\n",
       "       'Othergeneralgovernmentandsupport(92119)',\n",
       "       'Otherhealthcareservices(6215,6219)',\n",
       "       'Othermotorvehicledealers(4412)', 'Otherpersonalservices(8129)',\n",
       "       'Otherprofessional,scientific,andtechnicalservices(5419exc.54194)',\n",
       "       'Otherschools,instruction,andeducationalservices(6116,6117)',\n",
       "       'Othertelecommunicationsservices(517exc.5171,5175)',\n",
       "       'Othertransportationequipmentmanufacturing(3369)',\n",
       "       'Outpatientcarecenters(6214)',\n",
       "       'Paint,coating,andadhesivemanufacturingB46(3255)',\n",
       "       'Paperboardcontainersandboxes(32221)',\n",
       "       'Petroleumandpetroleumproducts,merchantwholesalers(4247)',\n",
       "       'Petroleumrefining(32411)',\n",
       "       'Pharmaceuticalandmedicinemanufacturing(3254)',\n",
       "       'Pharmaciesanddrugstores(44611)', 'Pipelinetransportation(486)',\n",
       "       'Plasticsproductmanufacturing(3261)', 'PostalService(491)',\n",
       "       'Pottery,ceramics,andrelatedproductsmanufacturing(32711)',\n",
       "       'Prefabricatedwoodbuildingsandmobilehomes(321991,321992)',\n",
       "       'Printingandrelatedsupportactivities(3231)',\n",
       "       'Privatehouseholds(814)',\n",
       "       'Professionalandcommercialequipmentandsupplies,merchantwholesalers(4234)',\n",
       "       'Publicfinanceactivities(92113)',\n",
       "       'Publishing,exceptnewspapersandsoftware(5111exc.51111)',\n",
       "       'Pulp,paper,andpaperboardmills(3221)',\n",
       "       'Radioandtelevisionbroadcastingandcable(5151,5152,5175)',\n",
       "       'Railroadrollingstockmanufacturing(3365)',\n",
       "       'Railtransportation(482)', 'Realestate(531)',\n",
       "       'Recreationalvehicleparksandcamps,androomingandboardinghouses(7212,7213)',\n",
       "       'Recyclablematerial,merchantwholesalers(42393)',\n",
       "       'Religiousorganizations(8131)',\n",
       "       'Residentialcarefacilities,withoutnursing(6232,6233,6239)',\n",
       "       'Resin,syntheticrubberandfibers,andfilamentsmanufacturing(3252)',\n",
       "       'Restaurantsandotherfoodservices(722exc.7224)',\n",
       "       'Retailflorists(4531)',\n",
       "       'Savingsinstitutions,includingcreditunions(52212,52213)',\n",
       "       'Sawmillsandwoodpreservation(3211)',\n",
       "       'Scenicandsightseeingtransportation(487)',\n",
       "       'Scientificresearchanddevelopmentservices(5417)',\n",
       "       'Seafoodandothermiscellaneousfoods,n.e.c.(3117,3119)',\n",
       "       'Securities,commodities,funds,trusts,andotherfinancialinvestments(523,525)',\n",
       "       'Servicesincidentaltotransportation(488)',\n",
       "       'Servicestobuildingsanddwellings(5617exc.56173)',\n",
       "       'Sewagetreatmentfacilities(22132)',\n",
       "       'Sewing,needlework,andpiecegoodsstores(45113)',\n",
       "       'Shipandboatbuilding(3366)',\n",
       "       'Soap,cleaningcompound,andcosmeticsmanufacturing(3256)',\n",
       "       'Softwarepublishing(5112)', 'Specializeddesignservices(5414)',\n",
       "       'Specialtyfoodstores(4452)',\n",
       "       'Structuralmetals,andtankandshippingcontainermanufacturing(3323,3324)',\n",
       "       'Sugarandconfectioneryproducts(3113)',\n",
       "       'Supportactivitiesforagricultureandforestry(115)',\n",
       "       'Supportactivitiesformining(213)', 'Taxiandlimousineservice(4853)',\n",
       "       'Textileproductmills,exceptcarpetsandrugs(314exc.31411)',\n",
       "       'Tiremanufacturing(32621)', 'Tobaccomanufacturing(3122)',\n",
       "       'Toys,amusement,andsportinggoodsmanufacturing(33992,33993)',\n",
       "       'Travelarrangementsandreservationservices(5615)',\n",
       "       'Traveleraccommodation(7211)', 'Trucktransportation(484)',\n",
       "       'Veterinaryservices(54194)', 'Warehousingandstorage(493)',\n",
       "       'Wastemanagementandremediationservices(562)',\n",
       "       'Water,steam,air-conditioning,andirrigationsystems(22131,22133)',\n",
       "       'Watertransportation(483)',\n",
       "       'Wholesaleelectronicmarkets,agentsandbrokersNewindustry(4251)',\n",
       "       'Wiredtelecommunicationscarriers(5171)'], dtype=object)"
      ]
     },
     "execution_count": 538,
     "metadata": {},
     "output_type": "execute_result"
    }
   ],
   "source": [
    "for i in data.index:\n",
    "    data.at[i,\"ind02\"] = data.at[i,\"ind02\"].replace(\"*\", \"\")\n",
    "    data.at[i,\"ind02\"] = data.at[i,\"ind02\"].replace(\" \", \"\")\n",
    "np.sort(data[\"ind02\"].unique())\n"
   ]
  },
  {
   "cell_type": "code",
   "execution_count": 539,
   "id": "1079b420",
   "metadata": {
    "scrolled": true
   },
   "outputs": [],
   "source": [
    "for i in data.index:\n",
    "    data.at[i, \"ind01\"] = data.at[i, \"ind02\"][0:3]"
   ]
  },
  {
   "cell_type": "code",
   "execution_count": 540,
   "id": "7248ce31",
   "metadata": {
    "scrolled": true
   },
   "outputs": [],
   "source": [
    "dummies = pd.get_dummies(data[\"ind01\"], prefix=\"ind01\", drop_first=True)"
   ]
  },
  {
   "cell_type": "code",
   "execution_count": 541,
   "id": "c4b61ac5",
   "metadata": {
    "scrolled": true
   },
   "outputs": [],
   "source": [
    "data = pd.concat([data, dummies], axis=1)"
   ]
  },
  {
   "cell_type": "code",
   "execution_count": 542,
   "id": "7dd3ed23",
   "metadata": {
    "scrolled": true
   },
   "outputs": [
    {
     "data": {
      "text/plain": [
       "Index(['lfsr94', 'earnwke', 'uhours', 'grade92', 'race', 'ethnic', 'age',\n",
       "       'sex', 'marital', 'ownchild',\n",
       "       ...\n",
       "       'ind01_Tob', 'ind01_Toy', 'ind01_Tra', 'ind01_Tru', 'ind01_Vet',\n",
       "       'ind01_War', 'ind01_Was', 'ind01_Wat', 'ind01_Who', 'ind01_Wir'],\n",
       "      dtype='object', length=161)"
      ]
     },
     "execution_count": 542,
     "metadata": {},
     "output_type": "execute_result"
    }
   ],
   "source": [
    "data.columns\n"
   ]
  },
  {
   "cell_type": "code",
   "execution_count": 543,
   "id": "bce3fda5",
   "metadata": {
    "scrolled": true
   },
   "outputs": [],
   "source": [
    "data[\"wage\"] = data[\"earnwke\"] / data[\"uhours\"]\n"
   ]
  },
  {
   "cell_type": "code",
   "execution_count": 544,
   "id": "51ba145f",
   "metadata": {
    "scrolled": true
   },
   "outputs": [],
   "source": [
    "data[\"ln_wage\"] = np.log(data[\"wage\"])"
   ]
  },
  {
   "cell_type": "code",
   "execution_count": 545,
   "id": "b7979eac",
   "metadata": {
    "scrolled": true
   },
   "outputs": [],
   "source": [
    "data[\"age2\"] = np.power(data[\"age\"], 2)"
   ]
  },
  {
   "cell_type": "code",
   "execution_count": 546,
   "id": "6ac67f0f",
   "metadata": {
    "scrolled": true
   },
   "outputs": [
    {
     "name": "stdout",
     "output_type": "stream",
     "text": [
      "[31 32 34 35 36 37 38 39 40 41 42 43 44 45 46]\n"
     ]
    }
   ],
   "source": [
    "print(np.sort(data[\"grade92\"].unique()))"
   ]
  },
  {
   "cell_type": "code",
   "execution_count": 547,
   "id": "2820f49d",
   "metadata": {
    "scrolled": true
   },
   "outputs": [
    {
     "name": "stdout",
     "output_type": "stream",
     "text": [
      "[ 0.   2.5  7.5  9.  10.  11.  12.  13.  14.  15.  16.  18.  23.  24. ]\n"
     ]
    }
   ],
   "source": [
    "dict = {31:0, 32: (1+2+3+4)/4, 34:(7+8)/2, 35:9, 36:10, 37:11, 38:12, 39:13, 40:14, 41:15, 42:15, 43:16, 44:18, 45:23, 46:24,}\n",
    "data=data.replace({\"grade92\": dict})\n",
    "print(np.sort(data[\"grade92\"].unique()))"
   ]
  },
  {
   "cell_type": "code",
   "execution_count": 548,
   "id": "44b9d4ac",
   "metadata": {
    "scrolled": true
   },
   "outputs": [
    {
     "name": "stdout",
     "output_type": "stream",
     "text": [
      "[ 1  2  3  4  5  6  7  8  9 10 11 13 16 19 21]\n"
     ]
    }
   ],
   "source": [
    "print(np.sort(data[\"race\"].unique()))"
   ]
  },
  {
   "cell_type": "code",
   "execution_count": 549,
   "id": "eb5dd4c3",
   "metadata": {
    "scrolled": true
   },
   "outputs": [],
   "source": [
    "dummies = pd.get_dummies(data[\"race\"], prefix=\"race\", drop_first=True)\n",
    "data = pd.concat([data, dummies], axis=1)"
   ]
  },
  {
   "cell_type": "code",
   "execution_count": 550,
   "id": "0ea347ab",
   "metadata": {
    "scrolled": true
   },
   "outputs": [
    {
     "name": "stdout",
     "output_type": "stream",
     "text": [
      "[0 1]\n"
     ]
    }
   ],
   "source": [
    "dict = {1:1, 2: 0}\n",
    "data=data.replace({\"sex\": dict})\n",
    "print(np.sort(data[\"sex\"].unique()))"
   ]
  },
  {
   "cell_type": "code",
   "execution_count": 551,
   "id": "8bf6358a",
   "metadata": {
    "scrolled": true
   },
   "outputs": [
    {
     "name": "stdout",
     "output_type": "stream",
     "text": [
      "[1 2 3 4 5 6 7]\n"
     ]
    }
   ],
   "source": [
    "print(np.sort(data[\"marital\"].unique()))"
   ]
  },
  {
   "cell_type": "code",
   "execution_count": 552,
   "id": "4626bbc1",
   "metadata": {
    "scrolled": true
   },
   "outputs": [],
   "source": [
    "dummies = pd.get_dummies(data[\"marital\"], prefix=\"marital\", drop_first=True)\n",
    "data = pd.concat([data, dummies], axis=1)"
   ]
  },
  {
   "cell_type": "code",
   "execution_count": 553,
   "id": "5f9c273f",
   "metadata": {
    "scrolled": true
   },
   "outputs": [
    {
     "name": "stdout",
     "output_type": "stream",
     "text": [
      "[ 0. nan  1.]\n",
      "[ 0. nan  1.]\n",
      "(5150, 184)\n",
      "[0, 0, 0, 0, 0, 4763, 0, 0, 0, 0, 0, 0, 0, 0, 0, 0, 0, 209, 0, 0, 0, 0, 0, 0, 0, 0, 0, 0, 0, 0, 0, 0, 0, 0, 0, 0, 0, 0, 0, 0, 0, 0, 0, 0, 0, 0, 0, 0, 0, 0, 0, 0, 0, 0, 0, 0, 0, 0, 0, 0, 0, 0, 0, 0, 0, 0, 0, 0, 0, 0, 0, 0, 0, 0, 0, 0, 0, 0, 0, 0, 0, 0, 0, 0, 0, 0, 0, 0, 0, 0, 0, 0, 0, 0, 0, 0, 0, 0, 0, 0, 0, 0, 0, 0, 0, 0, 0, 0, 0, 0, 0, 0, 0, 0, 0, 0, 0, 0, 0, 0, 0, 0, 0, 0, 0, 0, 0, 0, 0, 0, 0, 0, 0, 0, 0, 0, 0, 0, 0, 0, 0, 0, 0, 0, 0, 0, 0, 0, 0, 0, 0, 0, 0, 0, 0, 0, 0, 0, 0, 0, 0, 0, 0, 0, 0, 0, 0, 0, 0, 0, 0, 0, 0, 0, 0, 0, 0, 0, 0, 0, 0, 0, 0, 0]\n",
      "[0, 0, 0, 0, 0, 0, 0, 0, 0, 0, 0, 0, 0, 0, 0, 0, 0, 0, 0, 0, 0, 0, 0, 0, 0, 0, 0, 0, 0, 0, 0, 0, 0, 0, 0, 0, 0, 0, 0, 0, 0, 0, 0, 0, 0, 0, 0, 0, 0, 0, 0, 0, 0, 0, 0, 0, 0, 0, 0, 0, 0, 0, 0, 0, 0, 0, 0, 0, 0, 0, 0, 0, 0, 0, 0, 0, 0, 0, 0, 0, 0, 0, 0, 0, 0, 0, 0, 0, 0, 0, 0, 0, 0, 0, 0, 0, 0, 0, 0, 0, 0, 0, 0, 0, 0, 0, 0, 0, 0, 0, 0, 0, 0, 0, 0, 0, 0, 0, 0, 0, 0, 0, 0, 0, 0, 0, 0, 0, 0, 0, 0, 0, 0, 0, 0, 0, 0, 0, 0, 0, 0, 0, 0, 0, 0, 0, 0, 0, 0, 0, 0, 0, 0, 0, 0, 0, 0, 0, 0, 0, 0, 0, 0, 0, 0, 0, 0, 0, 0, 0, 0, 0, 0, 0, 0, 0, 0, 0, 0, 0, 0]\n"
     ]
    }
   ],
   "source": [
    "dict = {\"No\":0, \"Yes\": 1}\n",
    "data=data.replace({\"unioncov\": dict})\n",
    "print(data[\"unioncov\"].unique())\n",
    "print(data[\"unioncov\"].unique())\n",
    "print(data.shape)\n",
    "na_count = data.isna().sum()\n",
    "print(na_count.to_list())\n",
    "# drop unioncov and ethnic => many NaNs => so not using unionmme also\n",
    "data = data.drop([\"ethnic\", \"unioncov\", \"unionmme\"],axis=1)\n",
    "na_count = data.isna().sum()\n",
    "print(na_count.to_list())"
   ]
  },
  {
   "cell_type": "code",
   "execution_count": 554,
   "id": "660e8a24",
   "metadata": {
    "scrolled": true
   },
   "outputs": [
    {
     "name": "stdout",
     "output_type": "stream",
     "text": [
      "[0 1 2 3 4 5 6]\n"
     ]
    }
   ],
   "source": [
    "print(data[\"ownchild\"].unique())"
   ]
  },
  {
   "cell_type": "code",
   "execution_count": 555,
   "id": "fe806793",
   "metadata": {
    "scrolled": true
   },
   "outputs": [
    {
     "name": "stdout",
     "output_type": "stream",
     "text": [
      "['Employed-At Work' 'Employed-Absent']\n"
     ]
    }
   ],
   "source": [
    "print(data[\"lfsr94\"].unique())"
   ]
  },
  {
   "cell_type": "code",
   "execution_count": 556,
   "id": "b93b7448",
   "metadata": {
    "scrolled": true
   },
   "outputs": [
    {
     "name": "stdout",
     "output_type": "stream",
     "text": [
      "[1 0]\n"
     ]
    }
   ],
   "source": [
    "dict = {\"Employed-At Work\":1, \"Employed-Absent\": 0}\n",
    "data=data.replace({\"lfsr94\": dict})\n",
    "print(data[\"lfsr94\"].unique())"
   ]
  },
  {
   "cell_type": "code",
   "execution_count": 557,
   "id": "22ed8f3a",
   "metadata": {
    "scrolled": true
   },
   "outputs": [
    {
     "name": "stdout",
     "output_type": "stream",
     "text": [
      "['Private, For Profit' 'Private, Nonprofit' 'Government - State'\n",
      " 'Government - Local' 'Government - Federal']\n"
     ]
    }
   ],
   "source": [
    "print(data[\"class\"].unique())"
   ]
  },
  {
   "cell_type": "code",
   "execution_count": 558,
   "id": "cd38a0f6",
   "metadata": {
    "scrolled": true
   },
   "outputs": [],
   "source": [
    "dummies = pd.get_dummies(data[\"class\"], prefix=\"class\", drop_first=True)\n",
    "data = pd.concat([data, dummies], axis=1)"
   ]
  },
  {
   "cell_type": "code",
   "execution_count": 559,
   "id": "825e01e4",
   "metadata": {
    "scrolled": true
   },
   "outputs": [
    {
     "name": "stdout",
     "output_type": "stream",
     "text": [
      "[ 120  800  910  850  820 4820  840  860 5165  810  940  950  900  930\n",
      "  830]\n"
     ]
    }
   ],
   "source": [
    "print(data[\"occ2012\"].unique())\n",
    "dummies = pd.get_dummies(data[\"occ2012\"], prefix=\"occ2012\", drop_first=True)\n",
    "data = pd.concat([data, dummies], axis=1)"
   ]
  },
  {
   "cell_type": "code",
   "execution_count": 560,
   "id": "19a57006",
   "metadata": {
    "scrolled": true
   },
   "outputs": [
    {
     "name": "stdout",
     "output_type": "stream",
     "text": [
      "['63' '94' '86' '71' '93' '84' 'CT' '51' '53' '59' '58' '95' '82' 'IL'\n",
      " 'IN' 'IA' '47' '61' '72' 'ME' '52' 'MA' 'MI' 'MN' '64' 'MO' '81' '46'\n",
      " '88' 'NH' 'NJ' '85' 'NY' '56' 'ND' 'OH' '73' '92' 'PA' 'RI' '57' 'SD'\n",
      " '62' '74' '87' 'VT' '54' '91' 'WI' '83' '55' '6' '9' '8' '7' '1' '5' '3'\n",
      " '4' '2' 4 6 7 1 5 3 8 2 9]\n"
     ]
    }
   ],
   "source": [
    "print(data[\"state\"].unique())\n",
    "dummies = pd.get_dummies(data[\"state\"], prefix=\"state\", drop_first=True)\n",
    "data = pd.concat([data, dummies], axis=1)"
   ]
  },
  {
   "cell_type": "code",
   "execution_count": 561,
   "id": "fab6d4ae",
   "metadata": {
    "scrolled": true
   },
   "outputs": [
    {
     "name": "stdout",
     "output_type": "stream",
     "text": [
      "['Native, Born In US' 'Native, Born Abroad Of US Parent(s)'\n",
      " 'Foreign Born, US Cit By Naturalization'\n",
      " 'Native, Born in PR or US Outlying Area' 'Foreign Born, Not a US Citizen']\n"
     ]
    }
   ],
   "source": [
    "print(data[\"prcitshp\"].unique())\n",
    "dummies = pd.get_dummies(data[\"prcitshp\"], prefix=\"prcitshp\", drop_first=True)\n",
    "data = pd.concat([data, dummies], axis=1)"
   ]
  },
  {
   "cell_type": "code",
   "execution_count": 562,
   "id": "cca22128",
   "metadata": {
    "scrolled": true
   },
   "outputs": [],
   "source": [
    "data[\"exp\"] = data[\"age\"] - data[\"grade92\"] - 6\n",
    "data[\"exp2\"] = data[\"exp\"]*data[\"exp\"]"
   ]
  },
  {
   "cell_type": "code",
   "execution_count": 563,
   "id": "92c96cab",
   "metadata": {
    "scrolled": false
   },
   "outputs": [
    {
     "data": {
      "text/plain": [
       "['lfsr94',\n",
       " 'earnwke',\n",
       " 'uhours',\n",
       " 'grade92',\n",
       " 'race',\n",
       " 'age',\n",
       " 'sex',\n",
       " 'marital',\n",
       " 'ownchild',\n",
       " 'chldpres',\n",
       " 'prcitshp',\n",
       " 'state',\n",
       " 'ind02',\n",
       " 'occ2012',\n",
       " 'class',\n",
       " 'ind01',\n",
       " 'ind01_336',\n",
       " 'ind01_389',\n",
       " 'ind01_419',\n",
       " 'ind01_426',\n",
       " 'ind01_479',\n",
       " 'ind01_527',\n",
       " 'ind01_Acc',\n",
       " 'ind01_Adm',\n",
       " 'ind01_Adv',\n",
       " 'ind01_Aer',\n",
       " 'ind01_Agr',\n",
       " 'ind01_Air',\n",
       " 'ind01_Alc',\n",
       " 'ind01_Alu',\n",
       " 'ind01_Ani',\n",
       " 'ind01_Arc',\n",
       " 'ind01_Aut',\n",
       " 'ind01_Bak',\n",
       " 'ind01_Ban',\n",
       " 'ind01_Bee',\n",
       " 'ind01_Bev',\n",
       " 'ind01_Boo',\n",
       " 'ind01_Bui',\n",
       " 'ind01_Bus',\n",
       " 'ind01_Car',\n",
       " 'ind01_Cem',\n",
       " 'ind01_Chi',\n",
       " 'ind01_Civ',\n",
       " 'ind01_Clo',\n",
       " 'ind01_Coa',\n",
       " 'ind01_Col',\n",
       " 'ind01_Com',\n",
       " 'ind01_Con',\n",
       " 'ind01_Cou',\n",
       " 'ind01_Cro',\n",
       " 'ind01_Cut',\n",
       " 'ind01_Dai',\n",
       " 'ind01_Dat',\n",
       " 'ind01_Dep',\n",
       " 'ind01_Dri',\n",
       " 'ind01_Dru',\n",
       " 'ind01_Ele',\n",
       " 'ind01_Emp',\n",
       " 'ind01_Eng',\n",
       " 'ind01_Exe',\n",
       " 'ind01_Far',\n",
       " 'ind01_Fis',\n",
       " 'ind01_Foo',\n",
       " 'ind01_For',\n",
       " 'ind01_Fou',\n",
       " 'ind01_Fru',\n",
       " 'ind01_Fue',\n",
       " 'ind01_Fun',\n",
       " 'ind01_Fur',\n",
       " 'ind01_Gas',\n",
       " 'ind01_Gif',\n",
       " 'ind01_Gla',\n",
       " 'ind01_Gro',\n",
       " 'ind01_Har',\n",
       " 'ind01_Hea',\n",
       " 'ind01_Hom',\n",
       " 'ind01_Hos',\n",
       " 'ind01_Hou',\n",
       " 'ind01_Ind',\n",
       " 'ind01_Ins',\n",
       " 'ind01_Int',\n",
       " 'ind01_Inv',\n",
       " 'ind01_Iro',\n",
       " 'ind01_Jew',\n",
       " 'ind01_Jus',\n",
       " 'ind01_Kni',\n",
       " 'ind01_Lab',\n",
       " 'ind01_Lan',\n",
       " 'ind01_Law',\n",
       " 'ind01_Lea',\n",
       " 'ind01_Leg',\n",
       " 'ind01_Lum',\n",
       " 'ind01_Mac',\n",
       " 'ind01_Man',\n",
       " 'ind01_Med',\n",
       " 'ind01_Met',\n",
       " 'ind01_Mis',\n",
       " 'ind01_Mot',\n",
       " 'ind01_Mus',\n",
       " 'ind01_Nat',\n",
       " 'ind01_Nav',\n",
       " 'ind01_New',\n",
       " 'ind01_Non',\n",
       " 'ind01_Not',\n",
       " 'ind01_Nur',\n",
       " 'ind01_Off',\n",
       " 'ind01_Oil',\n",
       " 'ind01_Oth',\n",
       " 'ind01_Out',\n",
       " 'ind01_Pai',\n",
       " 'ind01_Pap',\n",
       " 'ind01_Pet',\n",
       " 'ind01_Pha',\n",
       " 'ind01_Pip',\n",
       " 'ind01_Pla',\n",
       " 'ind01_Pos',\n",
       " 'ind01_Pot',\n",
       " 'ind01_Pre',\n",
       " 'ind01_Pri',\n",
       " 'ind01_Pro',\n",
       " 'ind01_Pub',\n",
       " 'ind01_Pul',\n",
       " 'ind01_Rad',\n",
       " 'ind01_Rai',\n",
       " 'ind01_Rea',\n",
       " 'ind01_Rec',\n",
       " 'ind01_Rel',\n",
       " 'ind01_Res',\n",
       " 'ind01_Ret',\n",
       " 'ind01_Sav',\n",
       " 'ind01_Saw',\n",
       " 'ind01_Sce',\n",
       " 'ind01_Sci',\n",
       " 'ind01_Sea',\n",
       " 'ind01_Sec',\n",
       " 'ind01_Ser',\n",
       " 'ind01_Sew',\n",
       " 'ind01_Shi',\n",
       " 'ind01_Soa',\n",
       " 'ind01_Sof',\n",
       " 'ind01_Spe',\n",
       " 'ind01_Str',\n",
       " 'ind01_Sug',\n",
       " 'ind01_Sup',\n",
       " 'ind01_Tax',\n",
       " 'ind01_Tex',\n",
       " 'ind01_Tir',\n",
       " 'ind01_Tob',\n",
       " 'ind01_Toy',\n",
       " 'ind01_Tra',\n",
       " 'ind01_Tru',\n",
       " 'ind01_Vet',\n",
       " 'ind01_War',\n",
       " 'ind01_Was',\n",
       " 'ind01_Wat',\n",
       " 'ind01_Who',\n",
       " 'ind01_Wir',\n",
       " 'wage',\n",
       " 'ln_wage',\n",
       " 'age2',\n",
       " 'race_2',\n",
       " 'race_3',\n",
       " 'race_4',\n",
       " 'race_5',\n",
       " 'race_6',\n",
       " 'race_7',\n",
       " 'race_8',\n",
       " 'race_9',\n",
       " 'race_10',\n",
       " 'race_11',\n",
       " 'race_13',\n",
       " 'race_16',\n",
       " 'race_19',\n",
       " 'race_21',\n",
       " 'marital_2',\n",
       " 'marital_3',\n",
       " 'marital_4',\n",
       " 'marital_5',\n",
       " 'marital_6',\n",
       " 'marital_7',\n",
       " 'class_Government - Local',\n",
       " 'class_Government - State',\n",
       " 'class_Private, For Profit',\n",
       " 'class_Private, Nonprofit',\n",
       " 'occ2012_800',\n",
       " 'occ2012_810',\n",
       " 'occ2012_820',\n",
       " 'occ2012_830',\n",
       " 'occ2012_840',\n",
       " 'occ2012_850',\n",
       " 'occ2012_860',\n",
       " 'occ2012_900',\n",
       " 'occ2012_910',\n",
       " 'occ2012_930',\n",
       " 'occ2012_940',\n",
       " 'occ2012_950',\n",
       " 'occ2012_4820',\n",
       " 'occ2012_5165',\n",
       " 'state_2',\n",
       " 'state_3',\n",
       " 'state_4',\n",
       " 'state_5',\n",
       " 'state_6',\n",
       " 'state_7',\n",
       " 'state_8',\n",
       " 'state_9',\n",
       " 'state_1',\n",
       " 'state_2',\n",
       " 'state_3',\n",
       " 'state_4',\n",
       " 'state_46',\n",
       " 'state_47',\n",
       " 'state_5',\n",
       " 'state_51',\n",
       " 'state_52',\n",
       " 'state_53',\n",
       " 'state_54',\n",
       " 'state_55',\n",
       " 'state_56',\n",
       " 'state_57',\n",
       " 'state_58',\n",
       " 'state_59',\n",
       " 'state_6',\n",
       " 'state_61',\n",
       " 'state_62',\n",
       " 'state_63',\n",
       " 'state_64',\n",
       " 'state_7',\n",
       " 'state_71',\n",
       " 'state_72',\n",
       " 'state_73',\n",
       " 'state_74',\n",
       " 'state_8',\n",
       " 'state_81',\n",
       " 'state_82',\n",
       " 'state_83',\n",
       " 'state_84',\n",
       " 'state_85',\n",
       " 'state_86',\n",
       " 'state_87',\n",
       " 'state_88',\n",
       " 'state_9',\n",
       " 'state_91',\n",
       " 'state_92',\n",
       " 'state_93',\n",
       " 'state_94',\n",
       " 'state_95',\n",
       " 'state_CT',\n",
       " 'state_IA',\n",
       " 'state_IL',\n",
       " 'state_IN',\n",
       " 'state_MA',\n",
       " 'state_ME',\n",
       " 'state_MI',\n",
       " 'state_MN',\n",
       " 'state_MO',\n",
       " 'state_ND',\n",
       " 'state_NH',\n",
       " 'state_NJ',\n",
       " 'state_NY',\n",
       " 'state_OH',\n",
       " 'state_PA',\n",
       " 'state_RI',\n",
       " 'state_SD',\n",
       " 'state_VT',\n",
       " 'state_WI',\n",
       " 'prcitshp_Foreign Born, US Cit By Naturalization',\n",
       " 'prcitshp_Native, Born Abroad Of US Parent(s)',\n",
       " 'prcitshp_Native, Born In US',\n",
       " 'prcitshp_Native, Born in PR or US Outlying Area',\n",
       " 'exp',\n",
       " 'exp2']"
      ]
     },
     "execution_count": 563,
     "metadata": {},
     "output_type": "execute_result"
    }
   ],
   "source": [
    "data.columns.to_list()"
   ]
  },
  {
   "cell_type": "code",
   "execution_count": 564,
   "id": "83748cc9",
   "metadata": {
    "scrolled": true
   },
   "outputs": [
    {
     "name": "stdout",
     "output_type": "stream",
     "text": [
      "(5150, 263)\n",
      "(4900, 266)\n"
     ]
    }
   ],
   "source": [
    "data_r = data.drop([\"wage\", \"earnwke\",\"ind01\",\"ind02\", \"state\", \"class\", \"occ2012\", \"prcitshp\", \"marital\", \"race\"],axis=1)\n",
    "print(data_r.shape)\n",
    "\n",
    "data_r[\"child\"] = data_r[\"ownchild\"] * data_r[\"chldpres\"]\n",
    "data_r[\"agexp\"] = data_r[\"age\"] * data_r[\"exp\"]\n",
    "data_r[\"sex_child\"] = data_r[\"sex\"] * data_r[\"child\"]\n",
    "\n",
    "\n",
    "out_sample = data_r.sample(n=250)\n",
    "data_r = data_r.drop(out_sample.index)\n",
    "print(data_r.shape)\n",
    "data_r_X = data_r.drop([\"ln_wage\"],axis=1)\n",
    "y = data_r[\"ln_wage\"]\n",
    "# data_r.dropna(inplace=True)"
   ]
  },
  {
   "cell_type": "code",
   "execution_count": 565,
   "id": "ecc45757",
   "metadata": {
    "scrolled": false
   },
   "outputs": [
    {
     "data": {
      "text/plain": [
       "['lfsr94',\n",
       " 'uhours',\n",
       " 'grade92',\n",
       " 'age',\n",
       " 'sex',\n",
       " 'ownchild',\n",
       " 'chldpres',\n",
       " 'ind01_336',\n",
       " 'ind01_389',\n",
       " 'ind01_419',\n",
       " 'ind01_426',\n",
       " 'ind01_479',\n",
       " 'ind01_527',\n",
       " 'ind01_Acc',\n",
       " 'ind01_Adm',\n",
       " 'ind01_Adv',\n",
       " 'ind01_Aer',\n",
       " 'ind01_Agr',\n",
       " 'ind01_Air',\n",
       " 'ind01_Alc',\n",
       " 'ind01_Alu',\n",
       " 'ind01_Ani',\n",
       " 'ind01_Arc',\n",
       " 'ind01_Aut',\n",
       " 'ind01_Bak',\n",
       " 'ind01_Ban',\n",
       " 'ind01_Bee',\n",
       " 'ind01_Bev',\n",
       " 'ind01_Boo',\n",
       " 'ind01_Bui',\n",
       " 'ind01_Bus',\n",
       " 'ind01_Car',\n",
       " 'ind01_Cem',\n",
       " 'ind01_Chi',\n",
       " 'ind01_Civ',\n",
       " 'ind01_Clo',\n",
       " 'ind01_Coa',\n",
       " 'ind01_Col',\n",
       " 'ind01_Com',\n",
       " 'ind01_Con',\n",
       " 'ind01_Cou',\n",
       " 'ind01_Cro',\n",
       " 'ind01_Cut',\n",
       " 'ind01_Dai',\n",
       " 'ind01_Dat',\n",
       " 'ind01_Dep',\n",
       " 'ind01_Dri',\n",
       " 'ind01_Dru',\n",
       " 'ind01_Ele',\n",
       " 'ind01_Emp',\n",
       " 'ind01_Eng',\n",
       " 'ind01_Exe',\n",
       " 'ind01_Far',\n",
       " 'ind01_Fis',\n",
       " 'ind01_Foo',\n",
       " 'ind01_For',\n",
       " 'ind01_Fou',\n",
       " 'ind01_Fru',\n",
       " 'ind01_Fue',\n",
       " 'ind01_Fun',\n",
       " 'ind01_Fur',\n",
       " 'ind01_Gas',\n",
       " 'ind01_Gif',\n",
       " 'ind01_Gla',\n",
       " 'ind01_Gro',\n",
       " 'ind01_Har',\n",
       " 'ind01_Hea',\n",
       " 'ind01_Hom',\n",
       " 'ind01_Hos',\n",
       " 'ind01_Hou',\n",
       " 'ind01_Ind',\n",
       " 'ind01_Ins',\n",
       " 'ind01_Int',\n",
       " 'ind01_Inv',\n",
       " 'ind01_Iro',\n",
       " 'ind01_Jew',\n",
       " 'ind01_Jus',\n",
       " 'ind01_Kni',\n",
       " 'ind01_Lab',\n",
       " 'ind01_Lan',\n",
       " 'ind01_Law',\n",
       " 'ind01_Lea',\n",
       " 'ind01_Leg',\n",
       " 'ind01_Lum',\n",
       " 'ind01_Mac',\n",
       " 'ind01_Man',\n",
       " 'ind01_Med',\n",
       " 'ind01_Met',\n",
       " 'ind01_Mis',\n",
       " 'ind01_Mot',\n",
       " 'ind01_Mus',\n",
       " 'ind01_Nat',\n",
       " 'ind01_Nav',\n",
       " 'ind01_New',\n",
       " 'ind01_Non',\n",
       " 'ind01_Not',\n",
       " 'ind01_Nur',\n",
       " 'ind01_Off',\n",
       " 'ind01_Oil',\n",
       " 'ind01_Oth',\n",
       " 'ind01_Out',\n",
       " 'ind01_Pai',\n",
       " 'ind01_Pap',\n",
       " 'ind01_Pet',\n",
       " 'ind01_Pha',\n",
       " 'ind01_Pip',\n",
       " 'ind01_Pla',\n",
       " 'ind01_Pos',\n",
       " 'ind01_Pot',\n",
       " 'ind01_Pre',\n",
       " 'ind01_Pri',\n",
       " 'ind01_Pro',\n",
       " 'ind01_Pub',\n",
       " 'ind01_Pul',\n",
       " 'ind01_Rad',\n",
       " 'ind01_Rai',\n",
       " 'ind01_Rea',\n",
       " 'ind01_Rec',\n",
       " 'ind01_Rel',\n",
       " 'ind01_Res',\n",
       " 'ind01_Ret',\n",
       " 'ind01_Sav',\n",
       " 'ind01_Saw',\n",
       " 'ind01_Sce',\n",
       " 'ind01_Sci',\n",
       " 'ind01_Sea',\n",
       " 'ind01_Sec',\n",
       " 'ind01_Ser',\n",
       " 'ind01_Sew',\n",
       " 'ind01_Shi',\n",
       " 'ind01_Soa',\n",
       " 'ind01_Sof',\n",
       " 'ind01_Spe',\n",
       " 'ind01_Str',\n",
       " 'ind01_Sug',\n",
       " 'ind01_Sup',\n",
       " 'ind01_Tax',\n",
       " 'ind01_Tex',\n",
       " 'ind01_Tir',\n",
       " 'ind01_Tob',\n",
       " 'ind01_Toy',\n",
       " 'ind01_Tra',\n",
       " 'ind01_Tru',\n",
       " 'ind01_Vet',\n",
       " 'ind01_War',\n",
       " 'ind01_Was',\n",
       " 'ind01_Wat',\n",
       " 'ind01_Who',\n",
       " 'ind01_Wir',\n",
       " 'ln_wage',\n",
       " 'age2',\n",
       " 'race_2',\n",
       " 'race_3',\n",
       " 'race_4',\n",
       " 'race_5',\n",
       " 'race_6',\n",
       " 'race_7',\n",
       " 'race_8',\n",
       " 'race_9',\n",
       " 'race_10',\n",
       " 'race_11',\n",
       " 'race_13',\n",
       " 'race_16',\n",
       " 'race_19',\n",
       " 'race_21',\n",
       " 'marital_2',\n",
       " 'marital_3',\n",
       " 'marital_4',\n",
       " 'marital_5',\n",
       " 'marital_6',\n",
       " 'marital_7',\n",
       " 'class_Government - Local',\n",
       " 'class_Government - State',\n",
       " 'class_Private, For Profit',\n",
       " 'class_Private, Nonprofit',\n",
       " 'occ2012_800',\n",
       " 'occ2012_810',\n",
       " 'occ2012_820',\n",
       " 'occ2012_830',\n",
       " 'occ2012_840',\n",
       " 'occ2012_850',\n",
       " 'occ2012_860',\n",
       " 'occ2012_900',\n",
       " 'occ2012_910',\n",
       " 'occ2012_930',\n",
       " 'occ2012_940',\n",
       " 'occ2012_950',\n",
       " 'occ2012_4820',\n",
       " 'occ2012_5165',\n",
       " 'state_2',\n",
       " 'state_3',\n",
       " 'state_4',\n",
       " 'state_5',\n",
       " 'state_6',\n",
       " 'state_7',\n",
       " 'state_8',\n",
       " 'state_9',\n",
       " 'state_1',\n",
       " 'state_2',\n",
       " 'state_3',\n",
       " 'state_4',\n",
       " 'state_46',\n",
       " 'state_47',\n",
       " 'state_5',\n",
       " 'state_51',\n",
       " 'state_52',\n",
       " 'state_53',\n",
       " 'state_54',\n",
       " 'state_55',\n",
       " 'state_56',\n",
       " 'state_57',\n",
       " 'state_58',\n",
       " 'state_59',\n",
       " 'state_6',\n",
       " 'state_61',\n",
       " 'state_62',\n",
       " 'state_63',\n",
       " 'state_64',\n",
       " 'state_7',\n",
       " 'state_71',\n",
       " 'state_72',\n",
       " 'state_73',\n",
       " 'state_74',\n",
       " 'state_8',\n",
       " 'state_81',\n",
       " 'state_82',\n",
       " 'state_83',\n",
       " 'state_84',\n",
       " 'state_85',\n",
       " 'state_86',\n",
       " 'state_87',\n",
       " 'state_88',\n",
       " 'state_9',\n",
       " 'state_91',\n",
       " 'state_92',\n",
       " 'state_93',\n",
       " 'state_94',\n",
       " 'state_95',\n",
       " 'state_CT',\n",
       " 'state_IA',\n",
       " 'state_IL',\n",
       " 'state_IN',\n",
       " 'state_MA',\n",
       " 'state_ME',\n",
       " 'state_MI',\n",
       " 'state_MN',\n",
       " 'state_MO',\n",
       " 'state_ND',\n",
       " 'state_NH',\n",
       " 'state_NJ',\n",
       " 'state_NY',\n",
       " 'state_OH',\n",
       " 'state_PA',\n",
       " 'state_RI',\n",
       " 'state_SD',\n",
       " 'state_VT',\n",
       " 'state_WI',\n",
       " 'prcitshp_Foreign Born, US Cit By Naturalization',\n",
       " 'prcitshp_Native, Born Abroad Of US Parent(s)',\n",
       " 'prcitshp_Native, Born In US',\n",
       " 'prcitshp_Native, Born in PR or US Outlying Area',\n",
       " 'exp',\n",
       " 'exp2',\n",
       " 'child',\n",
       " 'agexp',\n",
       " 'sex_child']"
      ]
     },
     "execution_count": 565,
     "metadata": {},
     "output_type": "execute_result"
    }
   ],
   "source": [
    "data_r.columns.to_list()"
   ]
  },
  {
   "cell_type": "code",
   "execution_count": 576,
   "id": "ac448598",
   "metadata": {
    "scrolled": true
   },
   "outputs": [],
   "source": [
    "columns = data_r.columns.to_list()\n",
    "state_all = filter(lambda x: x.startswith('state_'), columns)\n",
    "ind_all = filter(lambda x: x.startswith('ind01_'), columns)\n",
    "ethnic_all = filter(lambda x: x.startswith('ethnic_'), columns)\n",
    "occ_all = filter(lambda x: x.startswith('occ2012_'), columns)\n",
    "class_all = filter(lambda x: x.startswith('class__'), columns)\n",
    "# data_r.dropna(inplace=True)\n",
    "# data_r_X.dropna(inplace=True)"
   ]
  },
  {
   "cell_type": "code",
   "execution_count": 577,
   "id": "94748bf6",
   "metadata": {
    "scrolled": true
   },
   "outputs": [
    {
     "name": "stdout",
     "output_type": "stream",
     "text": [
      "{'model_1': {'RMSE': 0.5797721448618696, 'BIC': 8608.39884994926}, 'model_2': {'RMSE': 0.5802302632501348, 'BIC': 8631.130575035597}, 'model_3': {'RMSE': 0.5796944450608913, 'BIC': 8644.561650706355}, 'model_4': {'RMSE': 0.5686784926853979, 'BIC': 10107.714984399634}}\n"
     ]
    }
   ],
   "source": [
    "metrics = {}\n",
    "# Fit the OLS model\n",
    "formula_1 = [\"sex\", \"grade92\", \"exp2\", \"lfsr94\", \"age\", \"age2\"]\n",
    "formula_2 = [\"sex\", \"grade92\", \"exp2\", \"lfsr94\", \"age\", \"exp\", 'ownchild', 'chldpres']\n",
    "formula_3 = [\"sex\", \"grade92\", \"exp2\", \"lfsr94\", \"age\", \"exp\", 'ownchild', 'chldpres', \"child\", \"agexp\", \"sex_child\"]\n",
    "formula_4 = list(ethnic_all) +list(occ_all) + list(ind_all) + list(state_all)+list(class_all)+[\"sex\", \"grade92\", \"exp2\", \"lfsr94\", \"age\", \"exp\", 'ownchild', 'chldpres']\n",
    "def full_ols(formula, name, datas):\n",
    "    model = OLS(datas['ln_wage'],datas[formula])\n",
    "    results = model.fit()\n",
    "    # print(x.columns.to_list())\n",
    "    # # Print the results\n",
    "    metrics[name] = {\"RMSE\":np.sqrt(results.mse_resid) , \"BIC\": results.bic}\n",
    "#     print(metrics)\n",
    "#     print(results.summary())\n",
    "full_ols(formula_1, \"model_1\", data_r)\n",
    "full_ols(formula_2, \"model_2\", data_r)\n",
    "full_ols(formula_3, \"model_3\", data_r)\n",
    "full_ols(formula_4, \"model_4\", data_r)\n",
    "\n",
    "print(metrics)"
   ]
  },
  {
   "cell_type": "code",
   "execution_count": 578,
   "id": "e4af7237",
   "metadata": {
    "scrolled": true
   },
   "outputs": [],
   "source": [
    "k = KFold(n_splits=4, shuffle=True, random_state=2023)"
   ]
  },
  {
   "cell_type": "code",
   "execution_count": 579,
   "id": "fa3f64cf",
   "metadata": {
    "scrolled": true
   },
   "outputs": [
    {
     "name": "stdout",
     "output_type": "stream",
     "text": [
      "{'model_1': {'RMSE': 0.5797721448618696, 'BIC': 8608.39884994926}, 'model_2': {'RMSE': 0.5802302632501348, 'BIC': 8631.130575035597}, 'model_3': {'RMSE': 0.5796944450608913, 'BIC': 8644.561650706355}, 'model_4': {'RMSE': 0.5686784926853979, 'BIC': 10107.714984399634}, 'model_1_k': {'RMSE_1': 0.610128555071661, 'RMSE_2': 0.6253558210232234, 'RMSE_3': 0.48502984024864093, 'RMSE_4': 0.5898212474504917, 'RMSE_average': 0.5775838659485043}, 'model_2_k': {'RMSE_1': 0.6101285592128982, 'RMSE_2': 0.6272493981270137, 'RMSE_3': 0.4840046558196684, 'RMSE_4': 0.5899945613957996, 'RMSE_average': 0.577844293638845}, 'model_3_k': {'RMSE_1': 0.6095833006287518, 'RMSE_2': 0.6268141252025254, 'RMSE_3': 0.4846398712668718, 'RMSE_4': 0.5891058706835516, 'RMSE_average': 0.5775357919454251}, 'model_4_k': {'RMSE_1': 0.6101285592128982, 'RMSE_2': 0.6272493981270137, 'RMSE_3': 0.4840046558196684, 'RMSE_4': 0.5899945613957996, 'RMSE_average': 0.577844293638845}}\n"
     ]
    }
   ],
   "source": [
    "rmse_results = []\n",
    "for train_index, test_index in k.split(data_r_X):\n",
    "    # Get the training and test data for this fold\n",
    "    X_train, X_test = data_r_X.iloc[train_index], data_r_X.iloc[test_index]\n",
    "    y_train, y_test = y.iloc[train_index], y.iloc[test_index]\n",
    "    formula = X_train[[\"sex\", \"grade92\", \"exp2\", \"lfsr94\", \"age\", \"age2\"]]\n",
    "    y_train = list(y_train)\n",
    "    model = OLS(y_train,formula)\n",
    "    results = model.fit()\n",
    "    # Predict on the test data\n",
    "    y_pred = results.predict(X_test[[\"sex\", \"grade92\", \"exp2\", \"lfsr94\", \"age\", \"age2\"]])\n",
    "\n",
    "    # Calculate the RMSE for this fold\n",
    "    rmse = np.sqrt(mean_squared_error(y_test, y_pred))\n",
    "    rmse_results.append(rmse)\n",
    "metrics[\"model_1_k\"] = {\"RMSE_1\":rmse_results[0], \"RMSE_2\":rmse_results[1], \"RMSE_3\":rmse_results[2], \"RMSE_4\":rmse_results[3], \"RMSE_average\":np.mean(rmse_results)}\n",
    "\n",
    "rmse_results = []\n",
    "for train_index, test_index in k.split(data_r_X):\n",
    "#     data_r_X.dropna(inplace=True)\n",
    "    # Get the training and test data for this fold\n",
    "    X_train, X_test = data_r_X.iloc[train_index], data_r_X.iloc[test_index]\n",
    "    y_train, y_test = y.iloc[train_index], y.iloc[test_index]\n",
    "    formula = X_train[[\"sex\", \"grade92\", \"exp2\", \"lfsr94\", \"age\", \"exp\", \"ownchild\", \"chldpres\"]]\n",
    "    y_train = list(y_train)\n",
    "    model = OLS(y_train,formula)\n",
    "    results = model.fit()\n",
    "    # Predict on the test data\n",
    "    y_pred = results.predict(X_test[[\"sex\", \"grade92\", \"exp2\", \"lfsr94\", \"age\", \"exp\", \"ownchild\", \"chldpres\"]])\n",
    "\n",
    "    # Calculate the RMSE for this fold\n",
    "    rmse = np.sqrt(mean_squared_error(y_test, y_pred))\n",
    "    rmse_results.append(rmse)\n",
    "metrics[\"model_2_k\"] = {\"RMSE_1\":rmse_results[0], \"RMSE_2\":rmse_results[1], \"RMSE_3\":rmse_results[2], \"RMSE_4\":rmse_results[3], \"RMSE_average\":np.mean(rmse_results)}\n",
    "\n",
    "rmse_results = []\n",
    "for train_index, test_index in k.split(data_r_X):\n",
    "#     data_r_X.dropna(inplace=True)\n",
    "    # Get the training and test data for this fold\n",
    "    X_train, X_test = data_r_X.iloc[train_index], data_r_X.iloc[test_index]\n",
    "    y_train, y_test = y.iloc[train_index], y.iloc[test_index]\n",
    "    formula = X_train[list(ind_all) + list(state_all)+list(class_all)+[\"sex\", \"grade92\", \"exp2\", \"lfsr94\", \"age\", \"exp\", 'ownchild', 'chldpres', \"child\", \"agexp\", \"sex_child\"]]\n",
    "    y_train = list(y_train)\n",
    "    model = OLS(y_train,formula)\n",
    "    results = model.fit()\n",
    "    # Predict on the test data\n",
    "    y_pred = results.predict(X_test[list(ind_all) + list(state_all)+list(class_all)+[\"sex\", \"grade92\", \"exp2\", \"lfsr94\", \"age\", \"exp\", 'ownchild', 'chldpres', \"child\", \"agexp\", \"sex_child\"]])\n",
    "\n",
    "    # Calculate the RMSE for this fold\n",
    "    rmse = np.sqrt(mean_squared_error(y_test, y_pred))\n",
    "    rmse_results.append(rmse)\n",
    "metrics[\"model_3_k\"] = {\"RMSE_1\":rmse_results[0], \"RMSE_2\":rmse_results[1], \"RMSE_3\":rmse_results[2], \"RMSE_4\":rmse_results[3], \"RMSE_average\":np.mean(rmse_results)}\n",
    "\n",
    "rmse_results = []\n",
    "for train_index, test_index in k.split(data_r_X):\n",
    "#     data_r_X.dropna(inplace=True)\n",
    "    # Get the training and test data for this fold\n",
    "    X_train, X_test = data_r_X.iloc[train_index], data_r_X.iloc[test_index]\n",
    "    y_train, y_test = y.iloc[train_index], y.iloc[test_index]\n",
    "    formula = X_train[list(ind_all) + list(state_all)+list(class_all)+[\"sex\", \"grade92\", \"exp2\", \"lfsr94\", \"age\", \"exp\", 'ownchild', 'chldpres',]]\n",
    "    y_train = list(y_train)\n",
    "    model = OLS(y_train,formula)\n",
    "    results = model.fit()\n",
    "    # Predict on the test data\n",
    "    y_pred = results.predict(X_test[list(ind_all) + list(state_all)+list(class_all)+[\"sex\", \"grade92\", \"exp2\", \"lfsr94\", \"age\", \"exp\", 'ownchild', 'chldpres',]])\n",
    "\n",
    "    # Calculate the RMSE for this fold\n",
    "    rmse = np.sqrt(mean_squared_error(y_test, y_pred))\n",
    "    rmse_results.append(rmse)\n",
    "metrics[\"model_4_k\"] = {\"RMSE_1\":rmse_results[0], \"RMSE_2\":rmse_results[1], \"RMSE_3\":rmse_results[2], \"RMSE_4\":rmse_results[3], \"RMSE_average\":np.mean(rmse_results)}\n",
    "print(metrics)"
   ]
  },
  {
   "cell_type": "code",
   "execution_count": 582,
   "id": "474ec3e2",
   "metadata": {},
   "outputs": [
    {
     "name": "stdout",
     "output_type": "stream",
     "text": [
      "{'model_1': {'RMSE': 0.5797721448618696, 'BIC': 8608.39884994926}, 'model_2': {'RMSE': 0.5802302632501348, 'BIC': 8631.130575035597}, 'model_3': {'RMSE': 0.5796944450608913, 'BIC': 8644.561650706355}, 'model_4': {'RMSE': 0.5686784926853979, 'BIC': 10107.714984399634}, 'model_1_k': {'RMSE_1': 0.610128555071661, 'RMSE_2': 0.6253558210232234, 'RMSE_3': 0.48502984024864093, 'RMSE_4': 0.5898212474504917, 'RMSE_average': 0.5775838659485043}, 'model_2_k': {'RMSE_1': 0.6101285592128982, 'RMSE_2': 0.6272493981270137, 'RMSE_3': 0.4840046558196684, 'RMSE_4': 0.5899945613957996, 'RMSE_average': 0.577844293638845}, 'model_3_k': {'RMSE_1': 0.6095833006287518, 'RMSE_2': 0.6268141252025254, 'RMSE_3': 0.4846398712668718, 'RMSE_4': 0.5891058706835516, 'RMSE_average': 0.5775357919454251}, 'model_4_k': {'RMSE_1': 0.6101285592128982, 'RMSE_2': 0.6272493981270137, 'RMSE_3': 0.4840046558196684, 'RMSE_4': 0.5899945613957996, 'RMSE_average': 0.577844293638845}, 'model_out_1': {'RMSE': 0.44533331502714896, 'BIC': 332.05873163706974}, 'model_out_2': {'RMSE': 0.44533331502714896, 'BIC': 332.05873163706974}, 'model_out_3': {'RMSE': 0.44533331502714896, 'BIC': 332.05873163706974}, 'model_out_4': {'RMSE': 0.42654418468433636, 'BIC': 760.6946436599183}}\n"
     ]
    }
   ],
   "source": [
    "full_ols(formula_1, \"model_out_1\", out_sample)\n",
    "full_ols(formula_1, \"model_out_2\", out_sample)\n",
    "full_ols(formula_1, \"model_out_3\", out_sample)\n",
    "full_ols(formula_4, \"model_out_4\", out_sample)\n",
    "print(metrics)"
   ]
  },
  {
   "cell_type": "code",
   "execution_count": 585,
   "id": "b94e7678",
   "metadata": {
    "scrolled": true
   },
   "outputs": [
    {
     "name": "stdout",
     "output_type": "stream",
     "text": [
      "                     Model 1   Model 2   Model 3    Model 4\n",
      "RMSE - full sample     0.580     0.580     0.580      0.569\n",
      "BIC - full sample   8608.399  8631.131  8644.562  10107.715\n",
      "Fold 1                 0.610     0.610     0.610      0.610\n",
      "Fold 2                 0.625     0.627     0.627      0.627\n",
      "Fold 3                 0.485     0.484     0.485      0.484\n",
      "Fold 4                 0.590     0.590     0.589      0.590\n",
      "Average RMSE           0.578     0.578     0.578      0.578\n",
      "Out sample RMSE        0.445     0.445     0.445      0.427\n",
      "Out sample BIC       332.059   332.059   332.059    760.695\n"
     ]
    }
   ],
   "source": [
    "table = pd.concat(\n",
    "    [\n",
    "        pd.DataFrame(data=[[metrics[\"model_1\"][\"RMSE\"], metrics[\"model_2\"][\"RMSE\"], metrics[\"model_3\"][\"RMSE\"], metrics[\"model_4\"][\"RMSE\"]],\n",
    "[metrics[\"model_1\"][\"BIC\"], metrics[\"model_2\"][\"BIC\"], metrics[\"model_3\"][\"BIC\"], metrics[\"model_4\"][\"BIC\"]],\n",
    "[metrics[\"model_1_k\"][\"RMSE_1\"], metrics[\"model_2_k\"][\"RMSE_1\"], metrics[\"model_3_k\"][\"RMSE_1\"], metrics[\"model_4_k\"][\"RMSE_1\"]],\n",
    "[metrics[\"model_1_k\"][\"RMSE_2\"], metrics[\"model_2_k\"][\"RMSE_2\"],metrics[\"model_3_k\"][\"RMSE_2\"],metrics[\"model_4_k\"][\"RMSE_2\"]],\n",
    "[metrics[\"model_1_k\"][\"RMSE_3\"], metrics[\"model_2_k\"][\"RMSE_3\"],metrics[\"model_3_k\"][\"RMSE_3\"],metrics[\"model_4_k\"][\"RMSE_3\"]],\n",
    "[metrics[\"model_1_k\"][\"RMSE_4\"], metrics[\"model_2_k\"][\"RMSE_4\"],metrics[\"model_3_k\"][\"RMSE_4\"],metrics[\"model_4_k\"][\"RMSE_4\"]],\n",
    "[metrics[\"model_1_k\"][\"RMSE_average\"], metrics[\"model_2_k\"][\"RMSE_average\"],metrics[\"model_3_k\"][\"RMSE_average\"],metrics[\"model_4_k\"][\"RMSE_average\"]],\n",
    "[metrics[\"model_out_1\"][\"RMSE\"], metrics[\"model_out_2\"][\"RMSE\"],metrics[\"model_out_3\"][\"RMSE\"],metrics[\"model_out_4\"][\"RMSE\"]],\n",
    "[metrics[\"model_out_1\"][\"BIC\"], metrics[\"model_out_2\"][\"BIC\"],metrics[\"model_out_3\"][\"BIC\"],metrics[\"model_out_4\"][\"BIC\"]]\n",
    "\n",
    "                          ],\n",
    "            columns=[\"Model 1\", \"Model 2\", \"Model 3\", \"Model 4\"]).rename({0: \"RMSE - full sample\", 1: \"BIC - full sample\", 2:\"Fold 1\", 3:\"Fold 2\", 4:\"Fold 3\", 5:\"Fold 4\", 6:\"Average RMSE\", 7:\"Out sample RMSE\", 8:\"Out sample BIC\"}, axis=0),\n",
    "    ]\n",
    ").round(3)\n",
    "print(table)"
   ]
  },
  {
   "cell_type": "code",
   "execution_count": null,
   "id": "36f27923",
   "metadata": {},
   "outputs": [],
   "source": []
  }
 ],
 "metadata": {
  "kernelspec": {
   "display_name": "Python 3 (ipykernel)",
   "language": "python",
   "name": "python3"
  },
  "language_info": {
   "codemirror_mode": {
    "name": "ipython",
    "version": 3
   },
   "file_extension": ".py",
   "mimetype": "text/x-python",
   "name": "python",
   "nbconvert_exporter": "python",
   "pygments_lexer": "ipython3",
   "version": "3.8.6rc1"
  }
 },
 "nbformat": 4,
 "nbformat_minor": 5
}
